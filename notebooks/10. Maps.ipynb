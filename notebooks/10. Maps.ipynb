{
 "cells": [
  {
   "cell_type": "markdown",
   "id": "ready-authentication",
   "metadata": {},
   "source": [
    "# Mapas\n"
   ]
  },
  {
   "cell_type": "code",
   "execution_count": null,
   "id": "close-patient",
   "metadata": {},
   "outputs": [],
   "source": [
    "import java.util.Objects;\n",
    "\n",
    "public class User {\n",
    "    private String nif;\n",
    "    private Integer phoneNumber;\n",
    "\n",
    "    public User(String nif, Integer phoneNumber) {\n",
    "        this.nif = nif;\n",
    "        this.phoneNumber = phoneNumber;\n",
    "    }\n",
    "\n",
    "    public String getNif() {\n",
    "        return nif;\n",
    "    }\n",
    "\n",
    "    public void setNif(String nif) {\n",
    "        this.nif = nif;\n",
    "    }\n",
    "\n",
    "    public Integer getPhoneNumber() {\n",
    "        return phoneNumber;\n",
    "    }\n",
    "\n",
    "    public void setPhoneNumber(Integer phoneNumber) {\n",
    "        this.phoneNumber = phoneNumber;\n",
    "    }\n",
    "\n",
    "    @Override\n",
    "    public boolean equals(Object o) {\n",
    "        if (this == o) return true;\n",
    "        if (o == null || getClass() != o.getClass()) return false;\n",
    "        User user = (User) o;\n",
    "        return Objects.equals(nif, user.nif) && Objects.equals(phoneNumber, user.phoneNumber);\n",
    "    }\n",
    "\n",
    "    @Override\n",
    "    public int hashCode() {\n",
    "        return Objects.hash(nif, phoneNumber);\n",
    "    }\n",
    "\n",
    "    @Override\n",
    "    public String toString() {\n",
    "        return \"User{\" +\n",
    "                \"nif='\" + nif + '\\'' +\n",
    "                \", phoneNumber=\" + phoneNumber +\n",
    "                '}';\n",
    "    }\n",
    "}\n",
    "\n",
    "public class NifNotFoundException extends Exception {\n",
    "\n",
    "}"
   ]
  },
  {
   "cell_type": "markdown",
   "id": "employed-funeral",
   "metadata": {},
   "source": [
    "## Ejercicio1 \n",
    "\n",
    "Escribe un programa que almacene los datos de los usuarios. Indexa los usuarios por el nif del usuario. Inserta varios usuarios con sus teléfonos. "
   ]
  },
  {
   "cell_type": "code",
   "execution_count": null,
   "id": "minor-influence",
   "metadata": {},
   "outputs": [],
   "source": []
  },
  {
   "cell_type": "markdown",
   "id": "consolidated-peripheral",
   "metadata": {},
   "source": [
    "\n",
    "## Ejercicio 2\n",
    "\n",
    "Crea un método que dado un mapa de usuarios indexados por nif y un nif, devuelva el teléfono. \n",
    "\n",
    "`public static Integer getPhoneByNif(Map<String, User> usersByNif, String nif)`\n",
    "\n",
    "Si el nif no existe lanza la excepción NifNotFoundException \n",
    "\n",
    "Métodos a usar:\n",
    "- containsKey \n",
    "- get "
   ]
  },
  {
   "cell_type": "code",
   "execution_count": null,
   "id": "elect-husband",
   "metadata": {},
   "outputs": [],
   "source": []
  },
  {
   "cell_type": "markdown",
   "id": "correct-telling",
   "metadata": {},
   "source": [
    "\n",
    "## Ejercicio 3\n",
    "\n",
    "Crea un método que dado un mapa de usuarios indexados por nif, devuelva todos los teléfonos almacenados (`List<Integer>` con los valores). \n",
    "\n",
    "`public static List<Integer> getPhones(Map<String, User> usersByNif)`\n",
    "\n",
    "Implementar con:\n",
    "- values()  \n",
    "    "
   ]
  },
  {
   "cell_type": "code",
   "execution_count": null,
   "id": "psychological-metro",
   "metadata": {},
   "outputs": [],
   "source": []
  },
  {
   "cell_type": "markdown",
   "id": "three-freedom",
   "metadata": {},
   "source": [
    "   \n",
    "\n",
    "## Ejercicio 4\n",
    "    \n",
    "Crea un método que dado un mapa de usuarios indexados por nif y un nif, elimina el usuario asociado al nif. \n",
    "\n",
    "Si el nif no existe lanza la excepción NifNotFoundException \n",
    "\n",
    "Métodos a usar:\n",
    "- containsKey \n",
    "- remove "
   ]
  },
  {
   "cell_type": "code",
   "execution_count": null,
   "id": "invisible-swimming",
   "metadata": {},
   "outputs": [],
   "source": []
  },
  {
   "cell_type": "markdown",
   "id": "therapeutic-arctic",
   "metadata": {},
   "source": [
    "\n",
    "## Ejercicio 5\n",
    "\n",
    "Crea un método que dado un mapa de usuarios indexados por nif,  devuelva una lista con los nif \n",
    "\n",
    "Implementar con:\n",
    "- KeySet()\n",
    "- addAll \n"
   ]
  },
  {
   "cell_type": "code",
   "execution_count": null,
   "id": "valuable-restoration",
   "metadata": {},
   "outputs": [],
   "source": []
  },
  {
   "cell_type": "markdown",
   "id": "atlantic-performer",
   "metadata": {},
   "source": [
    "\n",
    "## Ejercicio 6\n",
    "\n",
    "Crea un método que dado un mapa de usuarios indexados por nif, un nif y un teléfono, modifica el teléfono de un usuario. Si el usuario no existe NifNotFoundException \n",
    "\n",
    "Métodos a usar:\n",
    "- containsKey \n",
    "- get \n",
    "- put "
   ]
  },
  {
   "cell_type": "code",
   "execution_count": null,
   "id": "artistic-ecology",
   "metadata": {},
   "outputs": [],
   "source": []
  }
 ],
 "metadata": {
  "kernelspec": {
   "display_name": "Java",
   "language": "java",
   "name": "java"
  },
  "language_info": {
   "codemirror_mode": "java",
   "file_extension": ".jshell",
   "mimetype": "text/x-java-source",
   "name": "Java",
   "pygments_lexer": "java",
   "version": "11.0.10+9-Ubuntu-0ubuntu1.18.04"
  }
 },
 "nbformat": 4,
 "nbformat_minor": 5
}
