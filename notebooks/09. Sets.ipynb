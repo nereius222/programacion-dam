{
 "cells": [
  {
   "cell_type": "markdown",
   "id": "pursuant-terrace",
   "metadata": {},
   "source": [
    "# Sets\n",
    "\n",
    "## Ejercicio 1\n",
    "\n",
    "Escribe un programa que cree un HashSet y lo rellene con los String \"Hola\", \"qué\" y \"tal\". Luego recórrelo mostrando en pantalla cada elemento. \n"
   ]
  },
  {
   "cell_type": "code",
   "execution_count": null,
   "id": "rubber-tracker",
   "metadata": {},
   "outputs": [],
   "source": []
  },
  {
   "cell_type": "markdown",
   "id": "placed-contamination",
   "metadata": {},
   "source": [
    "## Ejercicio 2\n",
    "\n",
    "Escribe un método que dada un Set de String y un String y lo añada al Set. Comprueba el método con estas entradas. \n",
    "\n",
    "{“Hola”, “Mundo”} + “Adiós” = {“Adiós” , “Hola”, “Mundo”} "
   ]
  },
  {
   "cell_type": "code",
   "execution_count": null,
   "id": "difficult-public",
   "metadata": {},
   "outputs": [],
   "source": []
  },
  {
   "cell_type": "markdown",
   "id": "surrounded-lexington",
   "metadata": {},
   "source": [
    "## Ejercicio 3\n",
    "\n",
    "\n",
    "Dado un Set de Double, devolver la suma \n"
   ]
  },
  {
   "cell_type": "code",
   "execution_count": null,
   "id": "automatic-environment",
   "metadata": {},
   "outputs": [],
   "source": []
  },
  {
   "cell_type": "markdown",
   "id": "registered-mouse",
   "metadata": {},
   "source": [
    "## Ejercicio 4\n",
    "\n",
    "\n",
    "Dado un Set de Double, devolver la media. Si el set está vacía lanzar la excepción EmptySetException. \n"
   ]
  },
  {
   "cell_type": "code",
   "execution_count": null,
   "id": "substantial-shell",
   "metadata": {},
   "outputs": [],
   "source": [
    "public class EmptySetException extends Exception{\n",
    "\n",
    "}"
   ]
  },
  {
   "cell_type": "code",
   "execution_count": null,
   "id": "honey-trust",
   "metadata": {},
   "outputs": [],
   "source": []
  },
  {
   "cell_type": "markdown",
   "id": "bacterial-frequency",
   "metadata": {},
   "source": [
    "## Ejercicio 5\n",
    "\n",
    "\n",
    "Dado un Set de Integer y un entero (n), comprobar si n está contenido en el set. \n",
    " "
   ]
  },
  {
   "cell_type": "code",
   "execution_count": null,
   "id": "hourly-sydney",
   "metadata": {},
   "outputs": [],
   "source": []
  },
  {
   "cell_type": "markdown",
   "id": "stylish-helicopter",
   "metadata": {},
   "source": [
    "## Ejercicio 6\n",
    "\n",
    "\n",
    "Dado un Set de Integer, devolver el mínimo. Si el Set está vacío lanza EmptySetException \n"
   ]
  },
  {
   "cell_type": "code",
   "execution_count": null,
   "id": "allied-electric",
   "metadata": {},
   "outputs": [],
   "source": []
  }
 ],
 "metadata": {
  "kernelspec": {
   "display_name": "Java",
   "language": "java",
   "name": "java"
  },
  "language_info": {
   "codemirror_mode": "java",
   "file_extension": ".jshell",
   "mimetype": "text/x-java-source",
   "name": "Java",
   "pygments_lexer": "java",
   "version": "11.0.10+9-Ubuntu-0ubuntu1.18.04"
  }
 },
 "nbformat": 4,
 "nbformat_minor": 5
}
