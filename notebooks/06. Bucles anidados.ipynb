{
 "cells": [
  {
   "attachments": {
    "image-2.png": {
     "image/png": "[encoded data removed]"
    },
    "image.png": {
     "image/png": "[encoded data removed]"
    }
   },
   "cell_type": "markdown",
   "id": "statistical-living",
   "metadata": {},
   "source": [
    "# Bucles anidados\n",
    "\n",
    "## Ejercicio 1\n",
    "\n",
    "Implmenta un métoodo que dado un número entero positivo (n) y saque por pantalla lo siguiente: \n",
    "\n",
    "![image.png](attachment:image.png)\n",
    "\n",
    "Invócalo pasando el número 4\n",
    "\n",
    "![image-2.png](attachment:image-2.png)"
   ]
  },
  {
   "cell_type": "code",
   "execution_count": null,
   "id": "oriented-kingston",
   "metadata": {},
   "outputs": [],
   "source": []
  },
  {
   "attachments": {
    "image-2.png": {
     "image/png": "[encoded data removed]"
    },
    "image.png": {
     "image/png": "[encoded data removed]"
    }
   },
   "cell_type": "markdown",
   "id": "funny-casino",
   "metadata": {},
   "source": [
    "## Ejercicio 2\n",
    "\n",
    "Escribe un método que dado un número positivo (n) imprima la siguiente serie \n",
    "\n",
    "![image.png](attachment:image.png)\n",
    "\n",
    "Invócalo pasando el número 4\n",
    "\n",
    "![image-2.png](attachment:image-2.png)\n"
   ]
  },
  {
   "cell_type": "code",
   "execution_count": null,
   "id": "false-parameter",
   "metadata": {},
   "outputs": [],
   "source": []
  },
  {
   "attachments": {
    "image.png": {
     "image/png": "[encoded data removed]"
    }
   },
   "cell_type": "markdown",
   "id": "ancient-power",
   "metadata": {},
   "source": [
    "## Ejercicio 3\n",
    "\n",
    "Escribe un método que dado un número positivo (n) imprima la siguiente serie\n",
    "![image.png](attachment:image.png)\n",
    "\n",
    "Invócalo pasando el 5"
   ]
  },
  {
   "cell_type": "code",
   "execution_count": null,
   "id": "personalized-number",
   "metadata": {},
   "outputs": [],
   "source": []
  },
  {
   "attachments": {
    "image-2.png": {
     "image/png": "[encoded data removed]"
    },
    "image.png": {
     "image/png": "[encoded data removed]"
    }
   },
   "cell_type": "markdown",
   "id": "approved-fishing",
   "metadata": {},
   "source": [
    "## Ejercicio 4\n",
    "\n",
    "Escribe un método que dado un número positivo (n), imprima la siguiente serie :\n",
    "![image.png](attachment:image.png)\n",
    "\n",
    "Invócalo pasando el 4\n",
    "![image-2.png](attachment:image-2.png)"
   ]
  },
  {
   "cell_type": "code",
   "execution_count": null,
   "id": "interesting-tower",
   "metadata": {},
   "outputs": [],
   "source": []
  },
  {
   "cell_type": "markdown",
   "id": "gorgeous-limitation",
   "metadata": {},
   "source": [
    "## Ejercicio 5\n",
    "\n",
    "Escribe un método que dados dos arrays (numbers1 y numbers2), imprime por pantalla el resultado de multiplicar cada elemento en numbers1 por todos los números de number2.  \n",
    " \n",
    "Por ejemplo: numbers1={1, 2, 3} y numbers2={1,3,2} \n",
    "\n",
    "1x1X3X2=6 \n",
    "\n",
    "2x1x3x2=12 \n",
    "\n",
    "3x1x3x2=18 \n",
    "\n",
    "Saldrán por pantalla los números 6, 12 y 18 "
   ]
  },
  {
   "cell_type": "code",
   "execution_count": null,
   "id": "ranging-affair",
   "metadata": {},
   "outputs": [],
   "source": []
  },
  {
   "cell_type": "markdown",
   "id": "shaped-poker",
   "metadata": {},
   "source": [
    "## Ejercicio 6\n",
    "\n",
    "Escribe un método que dados dos arrays (nnumbers1 y numbers2), comprueba si cada número de numbers1 existe en numbers2, de ser así imprime en pantalla “El número $numero existe en ambos arrays” "
   ]
  },
  {
   "cell_type": "code",
   "execution_count": null,
   "id": "differential-surgeon",
   "metadata": {},
   "outputs": [],
   "source": []
  }
 ],
 "metadata": {
  "kernelspec": {
   "display_name": "Java",
   "language": "java",
   "name": "java"
  },
  "language_info": {
   "codemirror_mode": "java",
   "file_extension": ".jshell",
   "mimetype": "text/x-java-source",
   "name": "Java",
   "pygments_lexer": "java",
   "version": "11.0.10+9-Ubuntu-0ubuntu1.18.04"
  }
 },
 "nbformat": 4,
 "nbformat_minor": 5
}
