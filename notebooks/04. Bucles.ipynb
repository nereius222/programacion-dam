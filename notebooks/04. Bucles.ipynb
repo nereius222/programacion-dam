{
 "cells": [
  {
   "cell_type": "markdown",
   "id": "inner-communications",
   "metadata": {},
   "source": [
    "# Bucles\n",
    "\n",
    "## Bucles for\n",
    "\n",
    "### Ejercicio 1\n",
    "\n",
    "- Pide al usuario un número entero (n) \n",
    "- Pide al usuario un mensaje (message) \n",
    "- Saca por pantalla el mensaje message n veces "
   ]
  },
  {
   "cell_type": "code",
   "execution_count": null,
   "id": "cellular-japan",
   "metadata": {},
   "outputs": [],
   "source": [
    "import java.util.Scanner;\n",
    "Scanner scanner = new Scanner(System.in);\n",
    "\n",
    "int n = scanner.nextInt();\n",
    "scanner.nextLine();\n",
    "String b = scanner.nextLine();\n",
    "\n",
    "for(int i = 0; i < n; i++) {\n",
    "    System.out.println(b);\n",
    "}"
   ]
  },
  {
   "cell_type": "markdown",
   "id": "historic-annual",
   "metadata": {},
   "source": [
    "### Ejercicio 2\n",
    "\n",
    "Un método que dados un mensaje y un entero (n),saque por pantalla el mensaje message n veces \n",
    "\n",
    "Invoca el método para que muestre el mensaje \"Hola mundo\" cinco veces"
   ]
  },
  {
   "cell_type": "code",
   "execution_count": null,
   "id": "experienced-disney",
   "metadata": {},
   "outputs": [],
   "source": [
    "import java.util.Scanner;\n",
    "Scanner scanner = new Scanner(System.in);\n",
    "\n",
    "int n = scanner.nextInt();\n",
    "scanner.nextLine();\n",
    "String mensaje = scanner.nextLine();\n",
    "\n",
    "public void holaMundo(String mensaje, int n) {\n",
    "    for (int i = 0; i < n; i++) {\n",
    "        System.out.println(mensaje);\n",
    "    }\n",
    "}\n",
    "\n",
    "holaMundo(mensaje, n);"
   ]
  },
  {
   "cell_type": "markdown",
   "id": "induced-somalia",
   "metadata": {},
   "source": [
    "### Ejercicio 3\n",
    "\n",
    "Escribe un método que dados dos números enteros, imprima todos los números que hay entre el más pequeño y el más grande.\n",
    "\n",
    "Invoca el método con los valores 1 y 7"
   ]
  },
  {
   "cell_type": "code",
   "execution_count": null,
   "id": "million-layout",
   "metadata": {},
   "outputs": [],
   "source": [
    "import java.util.Scanner;\n",
    "Scanner scanner = new Scanner(System.in);\n",
    "\n",
    "int a = scanner.nextInt();\n",
    "scanner.nextLine();\n",
    "int b = scanner.nextInt();\n",
    "scanner.nextLine();\n",
    "\n",
    "public void getNums(int a, int b) {\n",
    "    \n",
    "    for(int i = a; i <= b; i++) {\n",
    "        System.out.println(i);\n",
    "        if()\n",
    "    }\n",
    "\n",
    "}\n",
    "getNums(a, b);"
   ]
  },
  {
   "cell_type": "markdown",
   "id": "expired-currency",
   "metadata": {},
   "source": [
    "### Ejercicio 4\n",
    "\n",
    "Escribe un método que dado un entero positivo y calcule el sumatorio de cero a ese número \n",
    "\n",
    "Por ejemplo, si el argumento es 4 el resultado será 0 + 1 + 2 + 3 + 4 = 10 "
   ]
  },
  {
   "cell_type": "code",
   "execution_count": null,
   "id": "answering-demonstration",
   "metadata": {},
   "outputs": [],
   "source": [
    "int num = 4;\n",
    "int sumatorio = 0;\n",
    "\n",
    "for(int i = 0; i <= num; i++) {\n",
    "    sumatorio = sumatorio + i;\n",
    "} \n",
    "\n",
    "System.out.println(\"El sumatorio de \" + num + \" es \" + sumatorio);"
   ]
  },
  {
   "cell_type": "markdown",
   "id": "adjacent-consideration",
   "metadata": {},
   "source": [
    "### Ejercicio 5\n",
    "\n",
    "Escribe un método que dados dos años y imprima todos los años en ese rango, que sean bisiestos. Nota: para que un año sea bisiesto debe ser divisible por 4 y no debe ser divisible por 100.\n",
    "\n",
    "Invoca el método pasando los años 1900 y 2022"
   ]
  },
  {
   "cell_type": "code",
   "execution_count": null,
   "id": "young-means",
   "metadata": {},
   "outputs": [],
   "source": [
    "int n1 = 1900;\n",
    "int n2 = 2022;\n",
    "\n",
    "for (int i = n1; i <= n2; i++) {\n",
    "    if (i % 4 == 0) {\n",
    "        if (i % 100 != 0) {\n",
    "         System.out.println(i);   \n",
    "        }\n",
    "    }\n",
    "    \n",
    "}"
   ]
  },
  {
   "cell_type": "markdown",
   "id": "integrated-thinking",
   "metadata": {},
   "source": [
    "### Ejercicio 6\n",
    "\n",
    "Escribe un método que pregunte cuántos números se van a introducir, pida esos números y escriba cuántos negativos se han introducido."
   ]
  },
  {
   "cell_type": "code",
   "execution_count": null,
   "id": "fantastic-salvation",
   "metadata": {},
   "outputs": [],
   "source": [
    "import java.util.Scanner;\n",
    "Scanner scanner = new Scanner(System.in);\n",
    "\n",
    "\n",
    "\n",
    "public void pideNum () {\n",
    "    System.out.println(\"¿Cuántos números va a introducir?\");\n",
    "    int a = scanner.nextInt();\n",
    "    scanner.nextLine();\n",
    "\n",
    "    int contador = 0;\n",
    "    \n",
    "    for(int i = 0; i < a; i++) {\n",
    "        int n = scanner.nextInt();\n",
    "        scanner.nextLine();\n",
    "        \n",
    "        if (n < 0) {\n",
    "            contador++;\n",
    "        }\n",
    "\n",
    "    }\n",
    "            System.out.println(\"Números negativos: \" + contador );\n",
    "\n",
    "}\n",
    "\n",
    "pideNum();"
   ]
  },
  {
   "cell_type": "markdown",
   "id": "federal-raleigh",
   "metadata": {},
   "source": [
    "### Ejercicio 7\n",
    "\n",
    "Escribe un método que pregunte cuántos números se van a introducir, pida esos números e imprima el máximo de entre los números introducidos "
   ]
  },
  {
   "cell_type": "code",
   "execution_count": 12,
   "id": "speaking-period",
   "metadata": {},
   "outputs": [
    {
     "name": "stdout",
     "output_type": "stream",
     "text": [
      "¿Cuántos números va a introducir?\n",
      "2\n",
      "4\n",
      "6\n",
      "El máximo es... 6\n"
     ]
    }
   ],
   "source": [
    "import java.util.Scanner;\n",
    "Scanner scanner = new Scanner(System.in);\n",
    "\n",
    "\n",
    "public void pideNum () {\n",
    "    System.out.println(\"¿Cuántos números va a introducir?\");\n",
    "    int a = scanner.nextInt();\n",
    "    scanner.nextLine();\n",
    "    \n",
    "        int max = 0; \n",
    "    \n",
    "    for(int i = 0; i < a; i++) {\n",
    "        int n = scanner.nextInt();\n",
    "        scanner.nextLine();\n",
    "        \n",
    "\n",
    "    \n",
    "        if (n > max) {\n",
    "            max = n;\n",
    "        }\n",
    "        \n",
    "    }\n",
    "    \n",
    "    System.out.println(\"El máximo es... \" + max);\n",
    "}\n",
    "\n",
    "pideNum();"
   ]
  },
  {
   "cell_type": "markdown",
   "id": "dominican-cisco",
   "metadata": {},
   "source": [
    "### Ejercicio 8\n",
    "\n",
    "Escribe un método que dado un array de double, calcule la media de los mismo. La media se calcula sumando todos los números y dividiendo la suma entre la cantidad de números.\n",
    "\n",
    "Invoca el método pasando el array [2.3, 4.7, 2.0]"
   ]
  },
  {
   "cell_type": "code",
   "execution_count": null,
   "id": "generic-athens",
   "metadata": {},
   "outputs": [],
   "source": [
    "import java.util.Scanner;\n",
    "Scanner scanner = new Scanner(System.in);\n",
    "\n",
    "public void pideArray(double [] array) {\n",
    "    \n",
    "    for\n",
    "} "
   ]
  },
  {
   "cell_type": "markdown",
   "id": "innovative-bride",
   "metadata": {},
   "source": [
    "### Ejercicio 9 - Difícil\n",
    "\n",
    "Escribe un método que dado un número entero mayor que 1 y compruebe si este es primo o no. Un número primo solo es divisible por sí mismo y por el 1.\n",
    "\n",
    "Comprueba si los siguientes número son primos:\n",
    "- 7\n",
    "- 9\n",
    "- 13"
   ]
  },
  {
   "cell_type": "code",
   "execution_count": null,
   "id": "dominican-guide",
   "metadata": {},
   "outputs": [],
   "source": []
  },
  {
   "cell_type": "markdown",
   "id": "authorized-asbestos",
   "metadata": {},
   "source": [
    "### Ejercicio 10 - Difícil\n",
    "\n",
    "Escribe un método que dado un array de double, calcule la media de los números positivos, la media de los números negativos y la cantidad de ceros y muestre esa información en pantalla.\n",
    "\n"
   ]
  },
  {
   "cell_type": "markdown",
   "id": "shaped-blank",
   "metadata": {},
   "source": [
    "## Bucles while\n",
    "\n",
    "\n",
    "### Ejercicio 1\n",
    "\n",
    "Escribe método que dado un número entero lo multiplique por 2 hasta que sea mayor que 1000, al final devuelve el número.\n",
    "\n",
    "Invoca el método pasando el número 2"
   ]
  },
  {
   "cell_type": "code",
   "execution_count": null,
   "id": "assisted-evidence",
   "metadata": {},
   "outputs": [],
   "source": []
  },
  {
   "cell_type": "markdown",
   "id": "blond-preserve",
   "metadata": {},
   "source": [
    "### Ejercicio 2\n",
    "\n",
    "Escriba un método que pida dos números enteros. El programa pedirá de nuevo el segundo número hasta que sea mayor que el primero. El programa terminará mostrando en pantalla los dos números."
   ]
  },
  {
   "cell_type": "code",
   "execution_count": null,
   "id": "australian-cliff",
   "metadata": {},
   "outputs": [],
   "source": []
  },
  {
   "cell_type": "markdown",
   "id": "cellular-pocket",
   "metadata": {},
   "source": [
    "### Ejercicio 3\n",
    "\n",
    "Escriba un método que pida dos números decimales. El programa pedirá de nuevo el segundo número hasta que sea menor que el primero. El método terminará mostrando en pantalla los dos números. "
   ]
  },
  {
   "cell_type": "code",
   "execution_count": null,
   "id": "downtown-consortium",
   "metadata": {},
   "outputs": [],
   "source": []
  }
 ],
 "metadata": {
  "kernelspec": {
   "display_name": "Java",
   "language": "java",
   "name": "java"
  },
  "language_info": {
   "codemirror_mode": "java",
   "file_extension": ".jshell",
   "mimetype": "text/x-java-source",
   "name": "Java",
   "pygments_lexer": "java",
   "version": "11.0.10+9-Ubuntu-0ubuntu1.18.04"
  }
 },
 "nbformat": 4,
 "nbformat_minor": 5
}
