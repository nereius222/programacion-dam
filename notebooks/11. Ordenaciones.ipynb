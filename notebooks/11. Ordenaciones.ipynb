{
 "cells": [
  {
   "cell_type": "markdown",
   "id": "authentic-measure",
   "metadata": {},
   "source": [
    "# Ordenación de datos\n",
    "\n",
    "## Ejercicio 1\n",
    "\n",
    "Modifica la siguiente clase para que los usuarios se ordenen por los siguientes campos usando `Comparable<T>`:\n",
    "- Nombre\n",
    "- Apellidos\n",
    "- Nif"
   ]
  },
  {
   "cell_type": "code",
   "execution_count": null,
   "id": "collaborative-adaptation",
   "metadata": {},
   "outputs": [],
   "source": [
    "import java.util.Objects;\n",
    "\n",
    "public class User {\n",
    "    private String nif;\n",
    "    private String name;\n",
    "    private String surname;\n",
    "\n",
    "    public User(String nif, String name, String surname) {\n",
    "        this.nif = nif;\n",
    "        this.name = name;\n",
    "        this.surname = surname;\n",
    "    }\n",
    "\n",
    "\n",
    "    public String getNif() {\n",
    "        return nif;\n",
    "    }\n",
    "\n",
    "    public void setNif(String nif) {\n",
    "        this.nif = nif;\n",
    "    }\n",
    "\n",
    "    public String getName() {\n",
    "        return name;\n",
    "    }\n",
    "\n",
    "    public void setName(String name) {\n",
    "        this.name = name;\n",
    "    }\n",
    "\n",
    "    public String getSurname() {\n",
    "        return surname;\n",
    "    }\n",
    "\n",
    "    public void setSurname(String surname) {\n",
    "        this.surname = surname;\n",
    "    }\n",
    "\n",
    "    @Override\n",
    "    public boolean equals(Object o) {\n",
    "        if (this == o) return true;\n",
    "        if (o == null || getClass() != o.getClass()) return false;\n",
    "        User user = (User) o;\n",
    "        return Objects.equals(getNif(), user.getNif()) && Objects.equals(getName(), user.getName()) && Objects.equals(getSurname(), user.getSurname());\n",
    "    }\n",
    "\n",
    "    @Override\n",
    "    public int hashCode() {\n",
    "        return Objects.hash(getNif(), getName(), getSurname());\n",
    "    }\n",
    "\n",
    "    @Override\n",
    "    public String toString() {\n",
    "        final StringBuilder sb = new StringBuilder(\"User{\");\n",
    "        sb.append(\"nif='\").append(nif).append('\\'');\n",
    "        sb.append(\", name='\").append(name).append('\\'');\n",
    "        sb.append(\", surname='\").append(surname).append('\\'');\n",
    "        sb.append('}');\n",
    "        return sb.toString();\n",
    "    }\n",
    "}"
   ]
  },
  {
   "cell_type": "markdown",
   "id": "available-cisco",
   "metadata": {},
   "source": [
    "## Ejercicio 2\n",
    "\n",
    "Crea un `TreeSet<User>` con varios usuarios, recorre el set y muestra los usuarios haciendo `System.out.println(user)`\n",
    "\n",
    "Los usuarios deben aparecer ordenados por nombre, apellidos y nif."
   ]
  },
  {
   "cell_type": "code",
   "execution_count": null,
   "id": "recent-aurora",
   "metadata": {},
   "outputs": [],
   "source": []
  },
  {
   "cell_type": "markdown",
   "id": "interesting-egyptian",
   "metadata": {},
   "source": [
    "## Ejercicio 3\n",
    "\n",
    "Genera una nueva forma de ordenación de usuarios usando `Comparator<T>`, los usuarios se deben ordenar por:\n",
    "- Apellidos\n",
    "- Nombre\n",
    "- Nif"
   ]
  },
  {
   "cell_type": "code",
   "execution_count": null,
   "id": "reported-reader",
   "metadata": {},
   "outputs": [],
   "source": []
  },
  {
   "cell_type": "markdown",
   "id": "twelve-manchester",
   "metadata": {},
   "source": [
    "## Ejercicio 4\n",
    "\n",
    "Crea un `TreeSet<User>` aplicando la ordenación del Comparator del ejercicio 3, inserta varios usuarios, recorre el set y muestra los usuarios haciendo `System.out.println(user)`\n",
    "\n",
    "Los usuarios deben aparecer ordenados por apellidos, nombre y nif.\n",
    "    "
   ]
  },
  {
   "cell_type": "code",
   "execution_count": null,
   "id": "heard-panama",
   "metadata": {},
   "outputs": [],
   "source": []
  }
 ],
 "metadata": {
  "kernelspec": {
   "display_name": "Java",
   "language": "java",
   "name": "java"
  },
  "language_info": {
   "codemirror_mode": "java",
   "file_extension": ".jshell",
   "mimetype": "text/x-java-source",
   "name": "Java",
   "pygments_lexer": "java",
   "version": "11.0.10+9-Ubuntu-0ubuntu1.18.04"
  }
 },
 "nbformat": 4,
 "nbformat_minor": 5
}
