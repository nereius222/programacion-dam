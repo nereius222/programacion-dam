{
 "cells": [
  {
   "cell_type": "markdown",
   "id": "wicked-wiring",
   "metadata": {},
   "source": [
    "# Repaso métodos\n",
    "\n",
    "Prueba todos los métodos en la celda ejecutándolos con valores hardcodeados"
   ]
  },
  {
   "cell_type": "markdown",
   "id": "registered-bulgarian",
   "metadata": {},
   "source": [
    "## Ejercicio 1\n",
    "\n",
    "Dados dos números enteros, devuelve la suma "
   ]
  },
  {
   "cell_type": "code",
   "execution_count": null,
   "id": "characteristic-converter",
   "metadata": {},
   "outputs": [],
   "source": [
    "// Ejemplo resuelto\n",
    "public int suma(int a, int b) {\n",
    "    return a + b;\n",
    "}\n",
    "\n",
    "// Invoco el método con dos valores para comprobar que devuelve el resultado esperado\n",
    "suma(3, 4);"
   ]
  },
  {
   "cell_type": "markdown",
   "id": "sublime-operation",
   "metadata": {},
   "source": [
    "## Ejercicio 2 \n",
    "\n",
    "Dado un número con decimales, imprime “El resultado es ” y el número "
   ]
  },
  {
   "cell_type": "code",
   "execution_count": null,
   "id": "registered-postage",
   "metadata": {},
   "outputs": [],
   "source": []
  },
  {
   "cell_type": "markdown",
   "id": "shaped-venice",
   "metadata": {},
   "source": [
    "## Ejercicio 3\n",
    "\n",
    "Dado un número entero positivo, devuelve el factorial. El factorial se calcula multiplicando desde 1 hasta el propio número. Factorial(3) = 3 * 2 * 1 = 6 "
   ]
  },
  {
   "cell_type": "code",
   "execution_count": null,
   "id": "friendly-nevada",
   "metadata": {},
   "outputs": [],
   "source": []
  },
  {
   "cell_type": "markdown",
   "id": "positive-carter",
   "metadata": {},
   "source": [
    "## Ejercicio 4\n",
    "\n",
    "Un método que pida un array de strings. Esté método pide todo lo que necesita dentro "
   ]
  },
  {
   "cell_type": "code",
   "execution_count": null,
   "id": "usual-headline",
   "metadata": {},
   "outputs": [],
   "source": []
  },
  {
   "cell_type": "markdown",
   "id": "exclusive-grounds",
   "metadata": {},
   "source": [
    "## Ejercicio 5\n",
    "\n",
    "Un método que dado un tamaño (entero), devuelve un array de double con ese tamaño "
   ]
  },
  {
   "cell_type": "code",
   "execution_count": null,
   "id": "surprised-complement",
   "metadata": {},
   "outputs": [],
   "source": []
  },
  {
   "cell_type": "markdown",
   "id": "clean-caution",
   "metadata": {},
   "source": [
    "## Ejercicio 6\n",
    "\n",
    "Un método que dado dos arrays de double, devuelve la suma de ambos "
   ]
  },
  {
   "cell_type": "code",
   "execution_count": null,
   "id": "encouraging-monitoring",
   "metadata": {},
   "outputs": [],
   "source": []
  }
 ],
 "metadata": {
  "kernelspec": {
   "display_name": "Java",
   "language": "java",
   "name": "java"
  },
  "language_info": {
   "codemirror_mode": "java",
   "file_extension": ".jshell",
   "mimetype": "text/x-java-source",
   "name": "Java",
   "pygments_lexer": "java",
   "version": "11.0.10+9-Ubuntu-0ubuntu1.18.04"
  }
 },
 "nbformat": 4,
 "nbformat_minor": 5
}
