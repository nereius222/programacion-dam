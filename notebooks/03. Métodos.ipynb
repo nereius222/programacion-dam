{
 "cells": [
  {
   "cell_type": "markdown",
   "id": "prostate-skiing",
   "metadata": {},
   "source": [
    "# Ejercicios métodos\n",
    "\n",
    "## Ejercicio 1\n",
    "\n",
    "Crea un método que realice el saludo “Hola mundo”"
   ]
  },
  {
   "cell_type": "markdown",
   "id": "lonely-nightmare",
   "metadata": {},
   "source": []
  },
  {
   "cell_type": "code",
   "execution_count": 4,
   "id": "interstate-blues",
   "metadata": {},
   "outputs": [
    {
     "name": "stdout",
     "output_type": "stream",
     "text": [
      "Hola mundo\n"
     ]
    }
   ],
   "source": [
    "public void holaMundo() {\n",
    "    String saludo = \"Hola mundo\";\n",
    "    System.out.println(saludo);\n",
    "}\n",
    "\n",
    "holaMundo();"
   ]
  },
  {
   "cell_type": "markdown",
   "id": "reported-voice",
   "metadata": {},
   "source": [
    "Rellena estos valores para el método anterior\n",
    "\n",
    "Return type <input type=\"text\" id=\"name\" name=\"return\"/>\n",
    "\n",
    "Parámetros <input type=\"text\" id=\"name\" name=\"params\"/>"
   ]
  },
  {
   "cell_type": "markdown",
   "id": "accurate-kentucky",
   "metadata": {},
   "source": [
    "## Ejercicio 2\n",
    "\n",
    "Crea un método que reciba un parámetro person (String), el método debe mostrar un saludo personalizado a la persona. Invócalo con varios valores "
   ]
  },
  {
   "cell_type": "code",
   "execution_count": 5,
   "id": "plastic-society",
   "metadata": {},
   "outputs": [
    {
     "name": "stdout",
     "output_type": "stream",
     "text": [
      "Hola, Nerea\n"
     ]
    }
   ],
   "source": [
    "public void saludoPersonalizado(String person) {\n",
    "    System.out.println(\"Hola, \" + person);\n",
    "}\n",
    "\n",
    "saludoPersonalizado(\"Nerea\");"
   ]
  },
  {
   "cell_type": "markdown",
   "id": "negative-teach",
   "metadata": {},
   "source": [
    "Rellena estos valores para el método anterior\n",
    "\n",
    "Return type <input type=\"text\" id=\"name\" name=\"return\"/>\n",
    "\n",
    "Parámetros <input type=\"text\" id=\"name\" name=\"params\"/>\n"
   ]
  },
  {
   "cell_type": "markdown",
   "id": "timely-milton",
   "metadata": {},
   "source": [
    "## Ejercicio 3\n",
    "\n",
    "Crea un método restar que realiza lo siguiente: \n",
    "\n",
    "- Pide un valor entero (a) \n",
    "- Pide otro valor entero (b) \n",
    "- Muestra el resultado de restarlos "
   ]
  },
  {
   "cell_type": "code",
   "execution_count": 7,
   "id": "headed-missouri",
   "metadata": {},
   "outputs": [
    {
     "name": "stdout",
     "output_type": "stream",
     "text": [
      "6\n",
      "9\n",
      "-3\n"
     ]
    }
   ],
   "source": [
    "import java.util.Scanner;\n",
    "Scanner scanner = new Scanner(System.in);\n",
    "\n",
    "public void restar() {\n",
    "    int a = scanner.nextInt();\n",
    "    scanner.nextLine();\n",
    "    int b = scanner.nextInt();\n",
    "    scanner.nextLine();\n",
    "    \n",
    "    System.out.println(a-b);\n",
    "}\n",
    "\n",
    "restar();"
   ]
  },
  {
   "cell_type": "markdown",
   "id": "sound-instruction",
   "metadata": {},
   "source": [
    "Rellena estos valores para el método anterior\n",
    "\n",
    "Return type <input type=\"text\" id=\"name\" name=\"return\"/>\n",
    "\n",
    "Parámetros <input type=\"text\" id=\"name\" name=\"params\"/>\n"
   ]
  },
  {
   "cell_type": "markdown",
   "id": "duplicate-amsterdam",
   "metadata": {},
   "source": [
    "# Ejercicio 4\n",
    "\n",
    "Crea un método sumar que realiza lo siguiente: \n",
    "\n",
    "- Pide un valor double (a) \n",
    "- Pide otro valor double (b) \n",
    "- Muestra el resultado de sumarlos \n"
   ]
  },
  {
   "cell_type": "code",
   "execution_count": null,
   "id": "infectious-monkey",
   "metadata": {},
   "outputs": [],
   "source": [
    "public void sumar() {\n",
    "    \n",
    "}"
   ]
  },
  {
   "cell_type": "markdown",
   "id": "thrown-penny",
   "metadata": {},
   "source": [
    "Rellena estos valores para el método anterior\n",
    "\n",
    "Return type <input type=\"text\" id=\"name\" name=\"return\"/>\n",
    "\n",
    "Parámetros <input type=\"text\" id=\"name\" name=\"params\"/>\n"
   ]
  },
  {
   "cell_type": "markdown",
   "id": "secondary-minister",
   "metadata": {},
   "source": [
    "## Ejercicio 5\n",
    "\n",
    "Crea un  método que permita calcular la suma de dos números y devuelva el resultado. \n",
    "\n",
    "Utilízalo para sumar 3, 4, 5 y 7"
   ]
  },
  {
   "cell_type": "code",
   "execution_count": 8,
   "id": "broad-fifth",
   "metadata": {},
   "outputs": [
    {
     "name": "stdout",
     "output_type": "stream",
     "text": [
      "19\n"
     ]
    }
   ],
   "source": [
    "public int sumar (int a, int b) {\n",
    "    return a + b;\n",
    "}\n",
    "int sumar1 = sumar(3, 4);\n",
    "int sumar2 = sumar (5, 7);\n",
    "int sumarFinal = sumar (sumar1, sumar2);\n",
    "\n",
    "System.out.println(sumarFinal);"
   ]
  },
  {
   "cell_type": "markdown",
   "id": "liable-stadium",
   "metadata": {},
   "source": [
    "Rellena estos valores para el método anterior\n",
    "\n",
    "Return type <input type=\"text\" id=\"name\" name=\"return\"/>\n",
    "\n",
    "Parámetros <input type=\"text\" id=\"name\" name=\"params\"/>\n"
   ]
  },
  {
   "cell_type": "markdown",
   "id": "legendary-romantic",
   "metadata": {},
   "source": [
    "## Ejercicio 6\n",
    "\n",
    "Crea un  método que permita calcular la resta de dos números y devuelva el resultado. \n",
    "\n",
    "Utilízalo para restar 9 y 5"
   ]
  },
  {
   "cell_type": "code",
   "execution_count": 11,
   "id": "blond-reservation",
   "metadata": {},
   "outputs": [
    {
     "name": "stdout",
     "output_type": "stream",
     "text": [
      "4\n"
     ]
    }
   ],
   "source": [
    "public int resta(int a, int b) {\n",
    "    return a - b;\n",
    "} \n",
    "int resta = resta(9,5);\n",
    "\n",
    "System.out.println(resta);"
   ]
  },
  {
   "cell_type": "markdown",
   "id": "professional-strength",
   "metadata": {},
   "source": [
    "Rellena estos valores para el método anterior\n",
    "\n",
    "Return type <input type=\"text\" id=\"name\" name=\"return\"/>\n",
    "\n",
    "Parámetros <input type=\"text\" id=\"name\" name=\"params\"/>\n"
   ]
  },
  {
   "cell_type": "markdown",
   "id": "innovative-wright",
   "metadata": {},
   "source": [
    "## Ejercicio 7\n",
    "\n",
    "Crea un método que pida un double y lo devuelva "
   ]
  },
  {
   "cell_type": "code",
   "execution_count": 20,
   "id": "wired-folks",
   "metadata": {},
   "outputs": [
    {
     "ename": "CompilationException",
     "evalue": "",
     "output_type": "error",
     "traceback": [
      "\u001b[1m\u001b[30m|   \u001b[1m\u001b[30mSystem.out.println(\u001b[0m\u001b[1m\u001b[30m\u001b[41ma\u001b[0m\u001b[1m\u001b[30m);\u001b[0m",
      "\u001b[1m\u001b[31mcannot find symbol\u001b[0m",
      "\u001b[1m\u001b[31m  symbol:   variable a\u001b[0m",
      ""
     ]
    }
   ],
   "source": [
    "import java.util.Scanner;\n",
    "Scanner scanner = new Scanner(System.in);\n",
    "\n",
    "public double getDouble() {\n",
    "    double a = scanner.nextDouble();\n",
    "    scanner.nextLine();\n",
    "\n",
    "    return a;\n",
    "}\n"
   ]
  },
  {
   "cell_type": "markdown",
   "id": "colonial-objective",
   "metadata": {},
   "source": [
    "Rellena estos valores para el método anterior\n",
    "\n",
    "Return type <input type=\"text\" id=\"name\" name=\"return\"/>\n",
    "\n",
    "Parámetros <input type=\"text\" id=\"name\" name=\"params\"/>\n"
   ]
  },
  {
   "cell_type": "markdown",
   "id": "straight-identifier",
   "metadata": {},
   "source": [
    "## Ejercicio 8\n",
    "\n",
    "Crea un método que dados dos números double, devuelve la media de los mismo.\n",
    "\n",
    "Calcula la media de 3.4 y 4.6"
   ]
  },
  {
   "cell_type": "code",
   "execution_count": null,
   "id": "early-february",
   "metadata": {},
   "outputs": [],
   "source": []
  },
  {
   "cell_type": "markdown",
   "id": "quality-quebec",
   "metadata": {},
   "source": [
    "Rellena estos valores para el método anterior\n",
    "\n",
    "Return type <input type=\"text\" id=\"name\" name=\"return\"/>\n",
    "\n",
    "Parámetros <input type=\"text\" id=\"name\" name=\"params\"/>\n"
   ]
  },
  {
   "cell_type": "markdown",
   "id": "suspended-assistant",
   "metadata": {},
   "source": [
    "## Ejercicio 9\n",
    "\n",
    "Crea un método que, dados dos números enteros, devuelva el máximo. \n",
    "\n",
    "Calcula el máximo de entre 4 y 7"
   ]
  },
  {
   "cell_type": "code",
   "execution_count": null,
   "id": "grave-continent",
   "metadata": {},
   "outputs": [],
   "source": []
  },
  {
   "cell_type": "markdown",
   "id": "paperback-fault",
   "metadata": {},
   "source": [
    "Rellena estos valores para el método anterior\n",
    "\n",
    "Return type <input type=\"text\" id=\"name\" name=\"return\"/>\n",
    "\n",
    "Parámetros <input type=\"text\" id=\"name\" name=\"params\"/>\n"
   ]
  }
 ],
 "metadata": {
  "kernelspec": {
   "display_name": "Java",
   "language": "java",
   "name": "java"
  },
  "language_info": {
   "codemirror_mode": "java",
   "file_extension": ".jshell",
   "mimetype": "text/x-java-source",
   "name": "Java",
   "pygments_lexer": "java",
   "version": "11.0.10+9-Ubuntu-0ubuntu1.18.04"
  }
 },
 "nbformat": 4,
 "nbformat_minor": 5
}
