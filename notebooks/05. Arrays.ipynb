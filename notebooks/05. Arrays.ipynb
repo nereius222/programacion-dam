{
 "cells": [
  {
   "cell_type": "markdown",
   "id": "gentle-stations",
   "metadata": {},
   "source": [
    "# Arrays\n",
    "\n",
    "## Ejercicio 1\n",
    "\n",
    "- Declara un array de enteros con 5 posiciones. \n",
    "- Mete los siguientes valores: 4, 2, 3, 4 y 5 \n",
    "- Muestra en pantalla el último valor del array \n",
    "- Muestra el tamaño del array en pantalla "
   ]
  },
  {
   "cell_type": "code",
   "execution_count": 3,
   "id": "occupational-biotechnology",
   "metadata": {},
   "outputs": [
    {
     "name": "stdout",
     "output_type": "stream",
     "text": [
      "4\n",
      "2\n",
      "3\n",
      "4\n",
      "5\n",
      "5\n",
      "5\n"
     ]
    }
   ],
   "source": [
    "import java.util.Scanner;\n",
    "Scanner scanner = new Scanner(System.in);\n",
    "\n",
    "public void arrayInt() {\n",
    "    int [] nums = new int [5];\n",
    "    for(int i = 0; i < nums.length; i++) {\n",
    "        nums[i] = scanner.nextInt();\n",
    "        scanner.nextLine();\n",
    "       \n",
    "    }\n",
    "        System.out.println(nums[nums.length-1]);\n",
    "  System.out.println(nums.length);\n",
    "} \n",
    "\n",
    "\n",
    "arrayInt();"
   ]
  },
  {
   "cell_type": "markdown",
   "id": "million-graphic",
   "metadata": {},
   "source": [
    "## Ejercicio 2\n",
    "\n",
    "Crea un método que pide un array de double al usuario: \n",
    "\n",
    "- Pregunta al usuario de qué tamaño quiere hacer el array. \n",
    "- Crea un array vacio del tamaño solicitado por el usuario \n",
    "- Pide tantos números como el tamaño del array y guarda cada uno en una posición distinta \n",
    "- Muestra el tamaño del array en pantalla \n",
    "\n",
    " "
   ]
  },
  {
   "cell_type": "code",
   "execution_count": null,
   "id": "heard-effect",
   "metadata": {},
   "outputs": [],
   "source": []
  },
  {
   "cell_type": "markdown",
   "id": "nominated-queue",
   "metadata": {},
   "source": [
    "## Ejercicio 3\n",
    "\n",
    "Implementa un método que dado un array de double, calcula la suma de todos los valores del array y devuélvela.\n",
    "\n",
    "Invoca el método pasando el array [3.2, 3.3, 1.5]"
   ]
  },
  {
   "cell_type": "code",
   "execution_count": null,
   "id": "commercial-payment",
   "metadata": {},
   "outputs": [],
   "source": []
  },
  {
   "cell_type": "markdown",
   "id": "caring-caribbean",
   "metadata": {},
   "source": [
    "## Ejercicio 4\n",
    "\n",
    "Implementa un método que dado un array de double, calcula la media de todos los valores del array y devuélvela.\n",
    "\n",
    "Invoca el método pasando el array [3.2, 3.3, 1.5]"
   ]
  },
  {
   "cell_type": "code",
   "execution_count": null,
   "id": "hearing-behalf",
   "metadata": {},
   "outputs": [],
   "source": []
  },
  {
   "cell_type": "markdown",
   "id": "respiratory-ferry",
   "metadata": {},
   "source": [
    "## Ejercicio 5\n",
    "\n",
    "Implementa un método que dado un array de double, calcula el valor máximo de todos los valores \n",
    "\n",
    "Invoca el método pasando el array [3.2, 3.3, 1.5]"
   ]
  },
  {
   "cell_type": "code",
   "execution_count": null,
   "id": "english-mileage",
   "metadata": {},
   "outputs": [],
   "source": []
  },
  {
   "cell_type": "markdown",
   "id": "mexican-crawford",
   "metadata": {},
   "source": [
    "## Ejercicio 6\n",
    "\n",
    "Implementa un método que dado un array de double, calcula el valor mínimo de todos los valores \n",
    "\n",
    "Invoca el método pasando el array [3.2, 3.3, 1.5]"
   ]
  },
  {
   "cell_type": "code",
   "execution_count": null,
   "id": "employed-airfare",
   "metadata": {},
   "outputs": [],
   "source": []
  },
  {
   "cell_type": "markdown",
   "id": "broad-greek",
   "metadata": {},
   "source": [
    "## Ejercicio 7\n",
    "\n",
    "\n",
    "Implementa un método que dados dos arrays de double los une en un solo array \n",
    "\n",
    "Invoca el método pasando los array [3.2, 3.3, 1.5] y [3.0, 1.2]"
   ]
  },
  {
   "cell_type": "code",
   "execution_count": null,
   "id": "structural-discovery",
   "metadata": {},
   "outputs": [],
   "source": []
  },
  {
   "cell_type": "markdown",
   "id": "dominican-beaver",
   "metadata": {},
   "source": [
    "## Ejercicio 8\n",
    "\n",
    "Implementa un método que dados dos arrays de double del mismo tamaño los suma \n",
    "\n",
    "Invoca el método pasando los array [3.2, 3.3, 1.5] y [3.0, 1.2, 2.5]"
   ]
  },
  {
   "cell_type": "code",
   "execution_count": null,
   "id": "blessed-faculty",
   "metadata": {},
   "outputs": [],
   "source": []
  }
 ],
 "metadata": {
  "kernelspec": {
   "display_name": "Java",
   "language": "java",
   "name": "java"
  },
  "language_info": {
   "codemirror_mode": "java",
   "file_extension": ".jshell",
   "mimetype": "text/x-java-source",
   "name": "Java",
   "pygments_lexer": "java",
   "version": "11.0.10+9-Ubuntu-0ubuntu1.18.04"
  }
 },
 "nbformat": 4,
 "nbformat_minor": 5
}
