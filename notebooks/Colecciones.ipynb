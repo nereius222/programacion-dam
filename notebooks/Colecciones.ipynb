{
 "cells": [
  {
   "cell_type": "markdown",
   "id": "primary-sarah",
   "metadata": {},
   "source": [
    "# Ejercicios de colecciones\n",
    "\n",
    "## Listas\n",
    "\n",
    "Las listas se caracterizan por almacenar datos de manera secuencial, es decir, en un orden determinado que no viene dado por el dato en sí sino por cómo han sido insertados en la colección.\n",
    "\n",
    "En estas colecciones se permite la repetición de elementos.\n",
    "\n",
    "Su principal utilidad viene relacionada con datos en los que se quiere mantener un orden dado y/o puede haber repetición de datos.\n",
    "\n",
    "Por ejemplo, una lista de comentarios que se ha hecho en un post de Facebook, queremos que queden en el orden en el que se hicieron.\n",
    "\n",
    "### Ejercicio 1\n",
    "\n",
    "Escribe un programa que cree un ArrayList y lo rellene con varios String. Luego recórrelo mostrando en pantalla cada elemento. "
   ]
  },
  {
   "cell_type": "code",
   "execution_count": null,
   "id": "legitimate-deposit",
   "metadata": {},
   "outputs": [],
   "source": [
    "List<String> lista =\n",
    "    \n",
    "    "
   ]
  },
  {
   "cell_type": "markdown",
   "id": "verbal-angle",
   "metadata": {},
   "source": [
    "### Ejercicio 2\n",
    "\n",
    "Escribe un método que dada una lista de String y un String y lo inserte en la primera posición"
   ]
  },
  {
   "cell_type": "code",
   "execution_count": null,
   "id": "strong-weapon",
   "metadata": {},
   "outputs": [],
   "source": [
    "public boolean añadirAlPrincipio(List<String> lista, String valor) {\n",
    "    \n",
    "    \n",
    "}\n",
    "\n",
    "añadirAlPrincipio(lista, \"nuevo\");\n",
    "lista"
   ]
  },
  {
   "cell_type": "markdown",
   "id": "academic-brave",
   "metadata": {},
   "source": [
    "### Ejercicio 3\n",
    "\n",
    "Escribe un método que dada una lista de String, devuelva el que está en la primera posición. Si no hay lanza una excepción EmptyListException"
   ]
  },
  {
   "cell_type": "code",
   "execution_count": null,
   "id": "demanding-landing",
   "metadata": {},
   "outputs": [],
   "source": [
    "if(contiene(lista, \"hola\")) {\n",
    "    System.out.println(\"Funciona\");\n",
    "}"
   ]
  },
  {
   "cell_type": "code",
   "execution_count": null,
   "id": "compliant-house",
   "metadata": {},
   "outputs": [],
   "source": [
    "import java.util.Objects;\n",
    "\n",
    "public class User  implements Comparable<User>{\n",
    "    private String nif;\n",
    "    private String name;\n",
    "    private String surname;\n",
    "\n",
    "    public User(String nif, String name, String surname) {\n",
    "        this.nif = nif;\n",
    "        this.name = name;\n",
    "        this.surname = surname;\n",
    "    }\n",
    "\n",
    "    @Override\n",
    "    public int compareTo(User other) {\n",
    "        // Si el usuario this es mayor que user2 se debe devolver 1\n",
    "        // Si el usuario this es igual que user2 se debe devolver 0\n",
    "        // Si el usuario this es menor que user2 se debe devolver -1\n",
    "        // ORDENO POR NIF\n",
    "        int compare = this.surname.compareTo(other.getSurname());\n",
    "        if (compare == 0) {\n",
    "            // Si tienen el mismo apellido, ordeno por nombre\n",
    "            compare = this.name.compareTo(other.getName());\n",
    "            if(compare == 0) {\n",
    "                // Si tienen el mismo nif y apellidos, ordeno por nombre\n",
    "                compare = this.nif.compareTo(other.getNif());\n",
    "            }\n",
    "        }\n",
    "        return compare;\n",
    "    }\n",
    "\n",
    "    public String getNif() {\n",
    "        return nif;\n",
    "    }\n",
    "\n",
    "    public void setNif(String nif) {\n",
    "        this.nif = nif;\n",
    "    }\n",
    "\n",
    "    public String getName() {\n",
    "        return name;\n",
    "    }\n",
    "\n",
    "    public void setName(String name) {\n",
    "        this.name = name;\n",
    "    }\n",
    "\n",
    "    public String getSurname() {\n",
    "        return surname;\n",
    "    }\n",
    "\n",
    "    public void setSurname(String surname) {\n",
    "        this.surname = surname;\n",
    "    }\n",
    "\n",
    "    @Override\n",
    "    public boolean equals(Object o) {\n",
    "        if (this == o) return true;\n",
    "        if (o == null || getClass() != o.getClass()) return false;\n",
    "        User user = (User) o;\n",
    "        return Objects.equals(getNif(), user.getNif()) && Objects.equals(getName(), user.getName()) && Objects.equals(getSurname(), user.getSurname());\n",
    "    }\n",
    "\n",
    "    @Override\n",
    "    public int hashCode() {\n",
    "        return Objects.hash(getNif(), getName(), getSurname());\n",
    "    }\n",
    "\n",
    "    @Override\n",
    "    public String toString() {\n",
    "        final StringBuilder sb = new StringBuilder(\"User{\");\n",
    "        sb.append(\"nif='\").append(nif).append('\\'');\n",
    "        sb.append(\", name='\").append(name).append('\\'');\n",
    "        sb.append(\", surname='\").append(surname).append('\\'');\n",
    "        sb.append('}');\n",
    "        return sb.toString();\n",
    "    }\n",
    "\n",
    "\n",
    "}"
   ]
  },
  {
   "cell_type": "code",
   "execution_count": null,
   "id": "comfortable-month",
   "metadata": {},
   "outputs": [],
   "source": [
    "import java.util.TreeSet;\n",
    "TreeSet<User> users = new TreeSet<>();\n",
    "users.add(new User(\"1\", \"Peppa\", \"Pig\"));\n",
    "\n",
    "users"
   ]
  },
  {
   "cell_type": "code",
   "execution_count": null,
   "id": "vanilla-shareware",
   "metadata": {},
   "outputs": [],
   "source": [
    "import java.util.Scanner;\n",
    "Scanner scanner = new Scanner(System.in);\n",
    "\n",
    "int i = scanner.nextInt();"
   ]
  }
 ],
 "metadata": {
  "kernelspec": {
   "display_name": "Java",
   "language": "java",
   "name": "java"
  },
  "language_info": {
   "codemirror_mode": "java",
   "file_extension": ".jshell",
   "mimetype": "text/x-java-source",
   "name": "Java",
   "pygments_lexer": "java",
   "version": "11.0.10+9-Ubuntu-0ubuntu1.18.04"
  }
 },
 "nbformat": 4,
 "nbformat_minor": 5
}
