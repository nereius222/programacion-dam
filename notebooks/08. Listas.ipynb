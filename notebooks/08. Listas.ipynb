{
 "cells": [
  {
   "cell_type": "markdown",
   "id": "pursuant-terrace",
   "metadata": {},
   "source": [
    "# Listas\n",
    "\n",
    "## Ejercicio 1\n",
    "\n",
    "Escribe un programa que cree un ArrayList y lo rellene con los String \"Hola\", \"qué\" y \"tal\". Luego recórrelo mostrando en pantalla cada elemento. \n"
   ]
  },
  {
   "cell_type": "code",
   "execution_count": null,
   "id": "rubber-tracker",
   "metadata": {},
   "outputs": [],
   "source": []
  },
  {
   "cell_type": "markdown",
   "id": "placed-contamination",
   "metadata": {},
   "source": [
    "## Ejercicio 2\n",
    "\n",
    "Escribe un método que dada una lista de String y un String y lo inserte en la primera posición. Comprueba el método con estas entradas. \n",
    "\n",
    "{“Hola”, “Mundo”} + “Adiós” = {“Adiós” , “Hola”, “Mundo”} "
   ]
  },
  {
   "cell_type": "code",
   "execution_count": null,
   "id": "difficult-public",
   "metadata": {},
   "outputs": [],
   "source": []
  },
  {
   "cell_type": "markdown",
   "id": "engaged-canada",
   "metadata": {},
   "source": [
    "## Ejercicio 3\n",
    "\n",
    "Escribe un método que dada una lista de String y devuelva el que está en la primera posición. Si no hay lanza una excepción EmptyListException. Comprueba que funciona invocándolo desde el notebook. "
   ]
  },
  {
   "cell_type": "code",
   "execution_count": null,
   "id": "unknown-means",
   "metadata": {},
   "outputs": [],
   "source": []
  },
  {
   "cell_type": "markdown",
   "id": "sapphire-burst",
   "metadata": {},
   "source": [
    "## Ejercicio 4\n",
    "\n",
    "\n",
    "Escribe un método que dada una lista de String y devuelva el que está en la última posición. Si no hay lanza una excepción EmptyListException. Comprueba que funciona invocándolo desde el notebook \n"
   ]
  },
  {
   "cell_type": "code",
   "execution_count": null,
   "id": "substantial-shell",
   "metadata": {},
   "outputs": [],
   "source": [
    "public class EmptyListException extends Exception{\n",
    "\n",
    "}"
   ]
  },
  {
   "cell_type": "code",
   "execution_count": null,
   "id": "ordinary-brick",
   "metadata": {},
   "outputs": [],
   "source": []
  },
  {
   "cell_type": "markdown",
   "id": "surrounded-lexington",
   "metadata": {},
   "source": [
    "## Ejercicio 5\n",
    "\n",
    "\n",
    "Dado una lista de Double, devolver la suma \n"
   ]
  },
  {
   "cell_type": "code",
   "execution_count": null,
   "id": "automatic-environment",
   "metadata": {},
   "outputs": [],
   "source": []
  },
  {
   "cell_type": "markdown",
   "id": "registered-mouse",
   "metadata": {},
   "source": [
    "## Ejercicio 6\n",
    "\n",
    "\n",
    "Dado un lista de Double, devolver la media. Si la lista está vacía lanzar la excepción EmptyListException. \n"
   ]
  },
  {
   "cell_type": "code",
   "execution_count": null,
   "id": "honey-trust",
   "metadata": {},
   "outputs": [],
   "source": []
  },
  {
   "cell_type": "markdown",
   "id": "bacterial-frequency",
   "metadata": {},
   "source": [
    "## Ejercicio 7\n",
    "\n",
    "\n",
    "Dado una lista de Integer, devolver el máximo. Si la lista está vacía lanza EmptyListException \n",
    " "
   ]
  },
  {
   "cell_type": "code",
   "execution_count": null,
   "id": "hourly-sydney",
   "metadata": {},
   "outputs": [],
   "source": []
  },
  {
   "cell_type": "markdown",
   "id": "stylish-helicopter",
   "metadata": {},
   "source": [
    "## Ejercicio 8\n",
    "\n",
    "\n",
    "Dado una lista de Integer, devolver el mínimo. Si la lista está vacía lanza EmptyListException \n"
   ]
  },
  {
   "cell_type": "code",
   "execution_count": null,
   "id": "allied-electric",
   "metadata": {},
   "outputs": [],
   "source": []
  },
  {
   "cell_type": "markdown",
   "id": "fatty-multimedia",
   "metadata": {},
   "source": [
    "## Ejercicio 9\n",
    "\n",
    "\n",
    "Crea un método que pida una lista de enteros, cada vez que el usuario introduce un número se le pregunta si desea introducir más (respuesta sí o no), cuando dice que no se devuelve la lista con los números que se hayan introducido hasta ese momento. \n",
    "\n"
   ]
  },
  {
   "cell_type": "code",
   "execution_count": null,
   "id": "increasing-namibia",
   "metadata": {},
   "outputs": [],
   "source": []
  },
  {
   "cell_type": "markdown",
   "id": "alleged-merit",
   "metadata": {},
   "source": [
    "**EJERCICIOS AVANZADOS DE AMPLIACIÓN**\n",
    "\n",
    "## Ejercicio 10\n",
    "\n",
    "Dada una lista de enteros desordenada, devuelve una nueva lista con los números ordenados de menor a mayor. {3, 1, 7, 0} -> {0, 1, 3, 7} \n",
    "\n"
   ]
  },
  {
   "cell_type": "code",
   "execution_count": null,
   "id": "criminal-bryan",
   "metadata": {},
   "outputs": [],
   "source": []
  },
  {
   "cell_type": "markdown",
   "id": "ancient-fiber",
   "metadata": {},
   "source": [
    "## Ejercicio 11\n",
    "\n",
    "\n",
    "Dadas dos listas de enteros, ordénalas y únelas en una única lista con los números ordenados y devuélvela. \n",
    "\n"
   ]
  },
  {
   "cell_type": "code",
   "execution_count": null,
   "id": "bacterial-protest",
   "metadata": {},
   "outputs": [],
   "source": []
  },
  {
   "cell_type": "markdown",
   "id": "objective-fitness",
   "metadata": {},
   "source": [
    "## Ejercicio 12\n",
    "\n",
    "\n",
    "Dada una lista de enteros ORDENADA de mayor a menor, comprueba si un número está incluido en ella.  Piensa cómo aprovechar el hecho de que la lista está ordenada para encontrar el número más rápido (se puede obtener una complejidad O(log n))"
   ]
  },
  {
   "cell_type": "code",
   "execution_count": null,
   "id": "fiscal-nitrogen",
   "metadata": {},
   "outputs": [],
   "source": []
  }
 ],
 "metadata": {
  "kernelspec": {
   "display_name": "Java",
   "language": "java",
   "name": "java"
  },
  "language_info": {
   "codemirror_mode": "java",
   "file_extension": ".jshell",
   "mimetype": "text/x-java-source",
   "name": "Java",
   "pygments_lexer": "java",
   "version": "11.0.10+9-Ubuntu-0ubuntu1.18.04"
  }
 },
 "nbformat": 4,
 "nbformat_minor": 5
}
