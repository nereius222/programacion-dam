{
 "cells": [
  {
   "cell_type": "markdown",
   "id": "approved-dream",
   "metadata": {},
   "source": [
    "# Ejercicios de if ... else if ... else\n",
    "\n",
    "## Ejercicio 1\n",
    "\n",
    "- Pide dos números enteros  \n",
    "- Si el primero es mayor que el segundo imprime en pantalla “Es mayor” \n",
    "- Si es menor imprime “es menor” \n",
    "- Si son iguales imprime “son iguales” "
   ]
  },
  {
   "cell_type": "code",
   "execution_count": null,
   "id": "varying-palace",
   "metadata": {},
   "outputs": [],
   "source": [
    "import java.util.Scanner;\n",
    "Scanner scanner = new Scanner(System.in);\n",
    "int a = scanner.nextInt();\n",
    "scanner.nextLine();\n",
    "int b = scanner.nextInt();\n",
    "scanner.nextLine();\n",
    "if (a > b) {\n",
    "    System.out.println(\"Es mayor\");\n",
    "} else if (a < b){\n",
    "    System.out.println(\"Es menor\");\n",
    "} else if (a == b) {\n",
    "    System.out.println(\"Son iguales\");\n",
    "}"
   ]
  },
  {
   "cell_type": "markdown",
   "id": "better-carry",
   "metadata": {},
   "source": [
    "## Ejercicio 2\n",
    "\n",
    "- Pide un número entero \n",
    "- Imprime en pantalla “Es par” cuando el número es par (n % 2 == 0) \n",
    "- Si n % 2 == 1 es impar \n",
    "- Si es 0 imprime “No es ni par ni impar” "
   ]
  },
  {
   "cell_type": "code",
   "execution_count": null,
   "id": "chicken-timer",
   "metadata": {},
   "outputs": [],
   "source": [
    "import java.util.Scanner;\n",
    "Scanner scanner = new Scanner(System.in);\n",
    "int a = scanner.nextInt();\n",
    "scanner.nextLine();\n",
    "if (a == 0) {\n",
    "    System.out.println(\"No es par ni impar\");\n",
    "} else if (a % 2 == 0) {\n",
    "    System.out.println(\"Es par\");\n",
    "} else if (a % 2 == 1){\n",
    "    System.out.println(\"Es impar\");\n",
    "}"
   ]
  },
  {
   "cell_type": "markdown",
   "id": "elder-annual",
   "metadata": {},
   "source": [
    "## Ejercicio 3\n",
    "\n",
    "- Pide un número entero \n",
    "- Imprime en pantalla “Es negativo” cuando el número es menor que cero \n",
    "- Si es mayor de 0 “es positivo” \n",
    "- Si es 0 imprime “No es positivo ni negativo” "
   ]
  },
  {
   "cell_type": "code",
   "execution_count": null,
   "id": "front-campus",
   "metadata": {},
   "outputs": [],
   "source": [
    "import java.util.Scanner;\n",
    "Scanner scanner = new Scanner(System.in);\n",
    "int a = scanner.nextInt();\n",
    "scanner.nextLine();\n",
    "if (a == 0) {\n",
    "    System.out.println(\"No es positivo ni negativo\");\n",
    "} else if (a < 0) {\n",
    "    System.out.println(\"Es negativo\");\n",
    "} else if (a > 0){\n",
    "    System.out.println(\"Es positivo\");\n",
    "}"
   ]
  },
  {
   "cell_type": "markdown",
   "id": "settled-netscape",
   "metadata": {},
   "source": [
    "## Ejercicio 4\n",
    "\n",
    "- Pide un String de 8 caracteres \n",
    "- Imprime en pantalla “Demasiado pequeño” si el String no tiene menos de 8 caracteres \n",
    "- Imprime en pantalla “Demasiado grande” si el String no tiene mas de 8 caracteres \n",
    "- Sino “Es valido” "
   ]
  },
  {
   "cell_type": "code",
   "execution_count": null,
   "id": "documentary-webcam",
   "metadata": {},
   "outputs": [],
   "source": [
    "import java.util.Scanner;\n",
    "Scanner scanner = new Scanner(System.in);\n",
    "\n",
    "String a = scanner.nextLine();\n",
    "\n",
    "if (a.length() < 8) {\n",
    "    System.out.println(\"Demasiado pequeño\");\n",
    "} else if (a.length() > 8) {\n",
    "    System.out.println(\"Demasiado grande\");\n",
    "} else if (a.length() == 8) { \n",
    "    System.out.println(\"Es válido\");\n",
    "}"
   ]
  },
  {
   "cell_type": "markdown",
   "id": "transparent-petersburg",
   "metadata": {},
   "source": [
    "## Ejercicio 5\n",
    "\n",
    "- Pide un número entero (a) \n",
    "- Pide un número entero (b) \n",
    "- Si a es mayor que b. Calcula la suma de a y b y muestra en pantalla el resultado \n",
    "- Si a es igual a b. Calcula la resta de a  - b y muestra el resultado en pantalla \n",
    "- Si a es menor que b: \n",
    "  - Pide al usuario otro numero c \n",
    "  - Si c es mayor que la suma de a y b: imprime el mensaje “c es mayor que a + b” \n",
    "  - Si c es menor que la suma de a y b: imprime el mensaje “c es menor que a + b” \n",
    "  - Si c es igual que la suma de a y b: imprime el mensaje “c es igual que a + b"
   ]
  },
  {
   "cell_type": "code",
   "execution_count": 16,
   "id": "weekly-incentive",
   "metadata": {},
   "outputs": [
    {
     "name": "stdout",
     "output_type": "stream",
     "text": [
      "4\n",
      "7\n",
      "\n",
      "11\n",
      "c es igual que a + b\n"
     ]
    }
   ],
   "source": [
    "import java.util.Scanner;\n",
    "Scanner scanner = new Scanner(System.in);\n",
    "int a = scanner.nextInt();\n",
    "scanner.nextLine();\n",
    "int b = scanner.nextInt();\n",
    "scanner.nextLine();\n",
    "if (a > b) {\n",
    "    System.out.println(a+b);\n",
    "} else if (a == b) {\n",
    "    System.out.println(a-b);\n",
    "} else if (a < b) {\n",
    "    int c = scanner.nextInt();\n",
    "    scanner.nextLine();\n",
    "    if (c > a+b) {\n",
    "        System.out.println(\"c es mayor que a + b\" );\n",
    "    } else if (c < a+b) {\n",
    "        System.out.println(\"c es menor que a + b\" );\n",
    "    } else if (c == a+b) {\n",
    "        System.out.println(\"c es igual que a + b\" );\n",
    "    }\n",
    "}\n",
    "    \n"
   ]
  },
  {
   "cell_type": "markdown",
   "id": "revised-sunrise",
   "metadata": {},
   "source": [
    "## Ejercicio 6\n",
    "\n",
    "- Pide un String y lo guarda en una variable llamada operación \n",
    "- Si el valor de operación es “+” (operacion.equals(“+”)) -> operacion == “+” \n",
    "  - Pide un valor double (a) \n",
    "  - Pide otro valor double (b) \n",
    "  - Muestra el resultado de sumarlos \n",
    "- Si el valor de la operación es “-” \n",
    "  - Pide un valor int(a) \n",
    "  - Pide otro valor int (b) \n",
    "  - Muestra el resultado de restarlos "
   ]
  },
  {
   "cell_type": "code",
   "execution_count": null,
   "id": "sharing-reservation",
   "metadata": {},
   "outputs": [],
   "source": [
    "import java.util.Scanner;\n",
    "Scanner scanner = new Scanner(System.in);\n",
    "\n",
    "String operacion = scanner.nextLine();\n",
    "\n",
    "if(operacion.equals(\"+\")) {\n",
    "    \n",
    "    double a = scanner.nextDouble();\n",
    "    scanner.nextLine();\n",
    "    double b = scanner.nextDouble();\n",
    "    scanner.nextLine();\n",
    "    \n",
    "        System.out.println(a+b);\n",
    "    \n",
    "} else if (operacion.equals(\"-\")) {\n",
    "    \n",
    "    int a = scanner.nextInt();\n",
    "    scanner.nextLine();\n",
    "    int b = scanner.nextInt();\n",
    "    scanner.nextLine();\n",
    "    \n",
    "        System.out.println(a-b);\n",
    "}"
   ]
  },
  {
   "cell_type": "markdown",
   "id": "functional-shanghai",
   "metadata": {},
   "source": [
    "# Ejercicios Switch\n",
    "\n",
    "## Ejercicio 1\n",
    "\n",
    "- Pide al usuario un valor entero \n",
    "- Utiliza un switch para que si el valor está 6 y 12 salga en pantalla “Buenos días” \n",
    "- Si está entre 13 y 20 “Buenas tardes” \n",
    "- Si está entre 0 y 5 o entre 21 y 23 “Buenas noches \n",
    "- En otro caso imprimir “Hora inválida” "
   ]
  },
  {
   "cell_type": "code",
   "execution_count": null,
   "id": "external-eating",
   "metadata": {},
   "outputs": [],
   "source": []
  },
  {
   "cell_type": "markdown",
   "id": "finished-empire",
   "metadata": {},
   "source": [
    "## Ejercicio 2\n",
    "\n",
    "- Pide un String y lo guarda en una variable llamada operación \n",
    "- Si el valor de operación es “+” (operacion.equals(“+”)) -> operacion == “+” \n",
    "  - Pide un valor double (a) \n",
    "  - Pide otro valor double (b) \n",
    "  - Muestra el resultado de sumarlos \n",
    "- Si el valor de la operación es “-” \n",
    "  - Pide un valor int(a) \n",
    "  - Pide otro valor int (b) \n",
    "  - Muestra el resultado de restarlos "
   ]
  },
  {
   "cell_type": "code",
   "execution_count": null,
   "id": "german-resolution",
   "metadata": {},
   "outputs": [],
   "source": []
  },
  {
   "cell_type": "markdown",
   "id": "indie-reality",
   "metadata": {},
   "source": [
    "## Ejercicio 3\n",
    "\n",
    "- Pide un String de 8 caracteres \n",
    "- Imprimer en pantalla “es válido” si tiene 8 caracteres \n",
    "- Imprime en pantalla “No es válido” si el String no tiene 8 caracteres "
   ]
  },
  {
   "cell_type": "code",
   "execution_count": null,
   "id": "balanced-latvia",
   "metadata": {},
   "outputs": [],
   "source": []
  }
 ],
 "metadata": {
  "kernelspec": {
   "display_name": "Java",
   "language": "java",
   "name": "java"
  },
  "language_info": {
   "codemirror_mode": "java",
   "file_extension": ".jshell",
   "mimetype": "text/x-java-source",
   "name": "Java",
   "pygments_lexer": "java",
   "version": "11.0.10+9-Ubuntu-0ubuntu1.18.04"
  }
 },
 "nbformat": 4,
 "nbformat_minor": 5
}
